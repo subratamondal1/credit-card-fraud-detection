{
  "nbformat": 4,
  "nbformat_minor": 0,
  "metadata": {
    "colab": {
      "provenance": [],
      "authorship_tag": "ABX9TyPyJ9mwgtF8bafMXh1qri6Y",
      "include_colab_link": true
    },
    "kernelspec": {
      "name": "python3",
      "display_name": "Python 3"
    },
    "language_info": {
      "name": "python"
    }
  },
  "cells": [
    {
      "cell_type": "markdown",
      "metadata": {
        "id": "view-in-github",
        "colab_type": "text"
      },
      "source": [
        "<a href=\"https://colab.research.google.com/github/subratamondal1/credit-card-fraud-detection/blob/main/Credit_Card_Fraud_Detection.ipynb\" target=\"_parent\"><img src=\"https://colab.research.google.com/assets/colab-badge.svg\" alt=\"Open In Colab\"/></a>"
      ]
    },
    {
      "cell_type": "markdown",
      "source": [
        "# Project Understanding"
      ],
      "metadata": {
        "id": "2qZs75Zd478t"
      }
    },
    {
      "cell_type": "markdown",
      "source": [
        "Although digital transactions in India registered a 51% growth in 2018-2019, their safety remains a concern. Fraudulent activities have increased severalfold, with approximately 52,304 cases of credit/debit card fraud reported in FY 2019 alone. Owing to this steep increase in banking frauds, it is the need of the hour to detect these fraudulent transactions in time to help consumers and banks that are losing their credit worth each day. Machine learning can play a vital role in detecting fraudulent transactions.\n",
        "\n",
        "---\n",
        "\n",
        "Suppose you get a call from your bank, and the customer care executive informs you that your card is about to expire in a week. Immediately, you check your card details and realise that it will expire in the next eight days. Now, to renew your membership, the executive asks you to verify a few details such as your credit card number, the expiry date and the CVV number. Will you share these details with the executive?\n",
        "\n",
        "\n",
        "In such situations, you need to be careful because the details that you might share with them could grant them unhindered access to your credit card account.\n",
        "\n",
        "In this module, you will understand frauds from a bank's perspective and learn about the extent to which these frauds affect their business. Banks need to be cautious about their customer's transactions, as they cannot afford to lose their customer's money to fraudsters. Every fraud is a loss to the bank, as the bank is responsible for the fraudulent transactions if they are reported within a certain time frame by the customer.\n",
        "\n",
        "---\n",
        "\n",
        "Some of the common types of credit card fraud are:\n",
        "\n",
        "- **Card-not-present (CNP) fraud:** This occurs when the fraudster uses the card information to make online or phone transactions without having the physical card. This type of fraud is the most prevalent and accounts for `46%` of global credit card fraud losses.\n",
        "\n",
        "- **Counterfeit and skimming fraud:** This occurs when the fraudster copies the card information from the magnetic stripe or the chip and creates a fake or cloned card. This type of fraud is usually done through skimming devices attached to ATMs, POS terminals, or gas pumps.\n",
        "\n",
        "- **Lost and stolen card fraud:** This occurs when the fraudster obtains the physical card by stealing it from the cardholder or finding it misplaced. This type of fraud is the easiest to prevent by reporting the card as lost or stolen as soon as possible.\n",
        "\n",
        "- **Card-never-arrived fraud:** This occurs when the fraudster intercepts the card before it reaches the cardholder, such as in the mail or at the delivery point. This type of fraud can be avoided by tracking the card shipment and activating the card upon receipt.\n",
        "\n",
        "- **False application fraud:** This occurs when the fraudster uses someone else's personal information to apply for a new card or account. This type of fraud can be detected by monitoring the credit reports and alerts for any unauthorized inquiries or accounts.\n",
        "\n",
        "\n",
        "According to the latest statistics, credit card fraud worldwide reached `$32 billion` in **2021**, and it is expected to grow to `$43 billion` by **2026**. The US alone accounted for **38.6%** of global credit card fraud losses in **2018**, with `$9.47 billion`.\n",
        "\n",
        "---\n",
        "\n",
        "> The **aim** of this project is to **predict fraudulent credit card transactions using machine learning models**.\n",
        "\n",
        "> The data set that you will be working on during this project was obtained from [Kaggle](https://www.kaggle.com/datasets/mlg-ulb/creditcardfraud). It contains thousands of individual transactions that took place over a course of two days and their respective labels."
      ],
      "metadata": {
        "id": "gm3Vhiq25SQq"
      }
    },
    {
      "cell_type": "markdown",
      "source": [
        "# Data"
      ],
      "metadata": {
        "id": "4pRiDt2z9ZjD"
      }
    },
    {
      "cell_type": "markdown",
      "source": [
        "## Context\n",
        "\n",
        "It is important that credit card companies are able to recognize fraudulent credit card transactions so that customers are not charged for items that they did not purchase."
      ],
      "metadata": {
        "id": "DhZONVye9b6G"
      }
    },
    {
      "cell_type": "markdown",
      "source": [
        "## Content\n",
        "\n",
        "The dataset contains transactions made by credit cards in **September 2013** by European cardholders. This dataset presents transactions that occurred in **two days**, where we have **492 frauds** out of **284,807 transactions**. The dataset is highly unbalanced, the positive class (frauds) account for **0.172%** of all transactions.\n",
        "\n",
        "It contains only numerical input variables which are the result of a **PCA transformation**. Unfortunately, due to confidentiality issues, we cannot provide the original features and more background information about the data. Features **`V1, V2, … V28`** are the principal components obtained with PCA, the only features which have not been transformed with PCA are `'Time'` and `'Amount'`.\n",
        "\n",
        "Feature **`'Time'`** contains the **seconds elapsed between each transaction and the first transaction** in the dataset. The feature **`'Amount'`** is the transaction Amount, this feature can be used for example-dependant cost-sensitive learning. Feature **`'Class'`** is the response variable and it takes value 1 in case of fraud and 0 otherwise.\n",
        "\n",
        "* **Fraud:** `1`\n",
        "* **Not Fraud:** `0`\n",
        "\n",
        "Given the class imbalance ratio, we recommend measuring the accuracy using the Area Under the Precision-Recall Curve (AUPRC). Confusion matrix accuracy is not meaningful for unbalanced classification.\n",
        "\n",
        "> The distribution plots of the variables were ***Gaussian***, which might indicate the effects of PCA transformations that had already been applied on the data set to mask the sensititve data.\n",
        "\n",
        "> A `Gaussian distribution`, also known as a `normal distribution`, is a type of continuous probability distribution that is symmetric about the mean and has a bell-shaped curve."
      ],
      "metadata": {
        "id": "Ajvw4EfY-bxa"
      }
    },
    {
      "cell_type": "markdown",
      "source": [
        "# Pipeline\n",
        "\n",
        "**1. Load the data** - and have an understanding of it, because here, we:\n",
        "* will select `subset of features` on which we will do the model training, as we will not consider features like `name, roll no,` etc.\n",
        "\n",
        "**2. EDA** - good thing about this data is, the features have **Gaussian/Normal** distribution:\n",
        "* so, we don't have to do **Z-scaling**\n",
        "* but, keep an eye on the **skewness** of the data and try to **mitigate** it as it will cause problem during model building phase\n",
        "\n",
        "> `Can you think of the reason why skewness can be an issue while modelling?`\n",
        "\n",
        "> Well, some of the data points in a skewed distribution towards the tail may act as outliers for the machine learning models that are sensitive to outliers; hence, this may cause a problem. Also, if the values of any independent feature are skewed, depending on the model, skewness may affect model assumptions or may impair the interpretation of feature importance.\n",
        "\n",
        "**3. Train Test Split** - we use `train set` to train the model and `test set` to evaluate the performance of the model\n",
        "\n",
        "* Here, for validation, we can use the k-fold cross-validation method to see which model is performing better. We need to choose an appropriate k value so that the minority class is correctly represented in the test folds.\n",
        "\n",
        "**4. Model building & Hyperparameter Tuning** This is the final step at which you can try different models and fine-tune their hyperparameters until you get the desired level of performance."
      ],
      "metadata": {
        "id": "szq_00q5ELzL"
      }
    },
    {
      "cell_type": "code",
      "source": [],
      "metadata": {
        "id": "S9jaLYnI5Ppu"
      },
      "execution_count": null,
      "outputs": []
    },
    {
      "cell_type": "code",
      "source": [],
      "metadata": {
        "id": "qZOCZQDa_p9u"
      },
      "execution_count": null,
      "outputs": []
    }
  ]
}